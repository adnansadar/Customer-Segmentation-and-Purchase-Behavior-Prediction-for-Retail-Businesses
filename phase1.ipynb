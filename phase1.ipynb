{
 "cells": [
  {
   "cell_type": "markdown",
   "metadata": {},
   "source": [
    "#### **Problem Statement:**"
   ]
  },
  {
   "cell_type": "markdown",
   "metadata": {},
   "source": [
    "**Project Title:** Customer Segmentation and Purchase Behavior Prediction for Retail Businesses\n",
    "\n",
    "**Problem Statement:** Purchase Behavior Prediction at Segment-Level: Using Demographic and Transactional Data to Identify Trends in Retail Customer Purchases Across Different Categories.\n",
    "\n",
    "**Objective:** Develop a predictive model that forecasts purchase behavior not for individual customers, but for similar customer segments (e.g., age group, gender, location).\n",
    "\n",
    "**Importance:** This approach allows retailers to predict overall category-level demands and tailor marketing or stocking strategies to different customer demographics, even without repeated customer interactions."
   ]
  },
  {
   "cell_type": "markdown",
   "metadata": {},
   "source": [
    "#### **Ask Questions:**"
   ]
  },
  {
   "cell_type": "markdown",
   "metadata": {},
   "source": [
    "#### **Adnan Shahid Sadar(50592332)**\n",
    "\n",
    "**Question 1:** How do age and gender affect customer preferences for different product categories?\n",
    "\n",
    "Hypotheses: Younger customers may prefer fashion items, while older customers may lean toward household products. Gender might also influence the likelihood of purchasing specific categories.\n",
    "\n",
    "Significance: This question helps identify demographic factors driving purchasing decisions. Retailers can use these insights for targeted marketing and product stocking strategies.\n",
    "\n",
    "**Question 2:** Do customers in different locations (shopping malls) show distinct purchasing behaviors?\n",
    "\n",
    "Hypotheses: Customers from malls located in urban areas may buy higher-priced products compared to those in suburban or rural areas.\n",
    "\n",
    "Significance: Retailers could optimize inventory management based on regional preferences, leading to better resource allocation and increased sales.\n"
   ]
  },
  {
   "cell_type": "markdown",
   "metadata": {},
   "source": [
    "#### **Mohammed Abdul Aftab Muddassir(50604245)**\n",
    "\n",
    "**Question 1:** Which product categories are generating the highest sales, indicating a need for potential adjustments in stocking strategies?\n",
    "•\tUnderstanding which product categories are generating the highest sales allows businesses to pinpoint their top-performing items. This information is crucial for assessing the success of current offerings and for planning future product launches or promotions.\n",
    "•\tBy knowing which categories are selling well, businesses can adjust their stocking strategies to ensure that high-demand items are adequately stocked. This helps prevent stockouts, reducing lost sales opportunities, and overstock situations that lead to increased holding costs.\n",
    "•\tSales data can guide product development efforts. If certain categories are performing well, businesses can explore expanding their offerings within those categories, introducing new variations or complementary products to meet consumer demand.\n",
    "\n",
    "**Question 2:**  How do the revenue trends across different quarters in 2021 and 2022 compare, and what are the underlying factors influencing variations in quarterly performance?\n",
    "•\tBusiness Insights: Understanding the revenue performance across different quarters provides valuable insights into seasonal trends and purchasing behaviors. Businesses can use this information to identify peak periods for sales and plan inventory and marketing strategies accordingly. \n",
    "•\tPerformance Evaluation: Analyzing quarterly revenue differences can help evaluate the impact of marketing campaigns, product launches, and economic conditions on sales. If one year outperforms another in a specific quarter, it may indicate the effectiveness of certain strategies or changes in consumer preferences. \n",
    "•\tResource Allocation: By identifying quarters with higher revenue, businesses can make informed decisions about resource allocation, staffing, and promotional efforts to maximize sales during peak periods. \n",
    "•\tFuture Forecasting: Analyzing historical revenue trends across quarters helps in predicting future performance. If certain quarters consistently generate higher revenue, businesses can develop forecasts and budgets based on past performance. \n",
    "•\tInvestor Confidence: For stakeholders and investors, understanding revenue trends and their significance can instill confidence in the company’s growth prospects. A positive trend in revenue performance may attract more investment or encourage expansion plans.\n"
   ]
  },
  {
   "cell_type": "markdown",
   "metadata": {},
   "source": [
    "#### **Data Cleaning/Data Retrieval:**"
   ]
  },
  {
   "cell_type": "code",
   "execution_count": 118,
   "metadata": {},
   "outputs": [],
   "source": [
    "# Importing the libraries\n",
    "import pandas as pd\n",
    "import seaborn as sns\n",
    "import matplotlib.pyplot as plt"
   ]
  },
  {
   "cell_type": "code",
   "execution_count": 119,
   "metadata": {},
   "outputs": [],
   "source": [
    "# Load the dataset\n",
    "df = pd.read_csv('customer_shopping_data.csv')"
   ]
  },
  {
   "cell_type": "code",
   "execution_count": 120,
   "metadata": {},
   "outputs": [
    {
     "data": {
      "text/html": [
       "<div>\n",
       "<style scoped>\n",
       "    .dataframe tbody tr th:only-of-type {\n",
       "        vertical-align: middle;\n",
       "    }\n",
       "\n",
       "    .dataframe tbody tr th {\n",
       "        vertical-align: top;\n",
       "    }\n",
       "\n",
       "    .dataframe thead th {\n",
       "        text-align: right;\n",
       "    }\n",
       "</style>\n",
       "<table border=\"1\" class=\"dataframe\">\n",
       "  <thead>\n",
       "    <tr style=\"text-align: right;\">\n",
       "      <th></th>\n",
       "      <th>age</th>\n",
       "      <th>quantity</th>\n",
       "      <th>price</th>\n",
       "    </tr>\n",
       "  </thead>\n",
       "  <tbody>\n",
       "    <tr>\n",
       "      <th>count</th>\n",
       "      <td>99453.000000</td>\n",
       "      <td>99457.000000</td>\n",
       "      <td>99457.000000</td>\n",
       "    </tr>\n",
       "    <tr>\n",
       "      <th>mean</th>\n",
       "      <td>43.432134</td>\n",
       "      <td>3.003429</td>\n",
       "      <td>689.256321</td>\n",
       "    </tr>\n",
       "    <tr>\n",
       "      <th>std</th>\n",
       "      <td>15.008140</td>\n",
       "      <td>1.413025</td>\n",
       "      <td>941.184567</td>\n",
       "    </tr>\n",
       "    <tr>\n",
       "      <th>min</th>\n",
       "      <td>2.000000</td>\n",
       "      <td>1.000000</td>\n",
       "      <td>5.230000</td>\n",
       "    </tr>\n",
       "    <tr>\n",
       "      <th>25%</th>\n",
       "      <td>30.000000</td>\n",
       "      <td>2.000000</td>\n",
       "      <td>45.450000</td>\n",
       "    </tr>\n",
       "    <tr>\n",
       "      <th>50%</th>\n",
       "      <td>43.000000</td>\n",
       "      <td>3.000000</td>\n",
       "      <td>203.300000</td>\n",
       "    </tr>\n",
       "    <tr>\n",
       "      <th>75%</th>\n",
       "      <td>56.000000</td>\n",
       "      <td>4.000000</td>\n",
       "      <td>1200.320000</td>\n",
       "    </tr>\n",
       "    <tr>\n",
       "      <th>max</th>\n",
       "      <td>155.000000</td>\n",
       "      <td>5.000000</td>\n",
       "      <td>5250.000000</td>\n",
       "    </tr>\n",
       "  </tbody>\n",
       "</table>\n",
       "</div>"
      ],
      "text/plain": [
       "                age      quantity         price\n",
       "count  99453.000000  99457.000000  99457.000000\n",
       "mean      43.432134      3.003429    689.256321\n",
       "std       15.008140      1.413025    941.184567\n",
       "min        2.000000      1.000000      5.230000\n",
       "25%       30.000000      2.000000     45.450000\n",
       "50%       43.000000      3.000000    203.300000\n",
       "75%       56.000000      4.000000   1200.320000\n",
       "max      155.000000      5.000000   5250.000000"
      ]
     },
     "execution_count": 120,
     "metadata": {},
     "output_type": "execute_result"
    }
   ],
   "source": [
    "df.describe()"
   ]
  },
  {
   "cell_type": "code",
   "execution_count": 121,
   "metadata": {},
   "outputs": [
    {
     "data": {
      "text/html": [
       "<div>\n",
       "<style scoped>\n",
       "    .dataframe tbody tr th:only-of-type {\n",
       "        vertical-align: middle;\n",
       "    }\n",
       "\n",
       "    .dataframe tbody tr th {\n",
       "        vertical-align: top;\n",
       "    }\n",
       "\n",
       "    .dataframe thead th {\n",
       "        text-align: right;\n",
       "    }\n",
       "</style>\n",
       "<table border=\"1\" class=\"dataframe\">\n",
       "  <thead>\n",
       "    <tr style=\"text-align: right;\">\n",
       "      <th></th>\n",
       "      <th>invoice_no</th>\n",
       "      <th>customer_id</th>\n",
       "      <th>gender</th>\n",
       "      <th>age</th>\n",
       "      <th>category</th>\n",
       "      <th>quantity</th>\n",
       "      <th>price</th>\n",
       "      <th>payment_method</th>\n",
       "      <th>invoice_date</th>\n",
       "      <th>shopping_mall</th>\n",
       "      <th>Location</th>\n",
       "    </tr>\n",
       "  </thead>\n",
       "  <tbody>\n",
       "    <tr>\n",
       "      <th>0</th>\n",
       "      <td>I138884</td>\n",
       "      <td>C241288</td>\n",
       "      <td>Female</td>\n",
       "      <td>28.0</td>\n",
       "      <td>Clothing</td>\n",
       "      <td>5</td>\n",
       "      <td>1500.40</td>\n",
       "      <td>Credit Card</td>\n",
       "      <td>5/8/2022</td>\n",
       "      <td>Kanyon</td>\n",
       "      <td>Sisli</td>\n",
       "    </tr>\n",
       "    <tr>\n",
       "      <th>1</th>\n",
       "      <td>I317333</td>\n",
       "      <td>C111565</td>\n",
       "      <td>NaN</td>\n",
       "      <td>21.0</td>\n",
       "      <td>Shoes</td>\n",
       "      <td>3</td>\n",
       "      <td>1800.51</td>\n",
       "      <td>Debit Card</td>\n",
       "      <td>12/12/2021</td>\n",
       "      <td>Forum Istanbul</td>\n",
       "      <td>Bayrampasa</td>\n",
       "    </tr>\n",
       "    <tr>\n",
       "      <th>2</th>\n",
       "      <td>I127801</td>\n",
       "      <td>C266599</td>\n",
       "      <td>Male</td>\n",
       "      <td>20.0</td>\n",
       "      <td>Clothing</td>\n",
       "      <td>1</td>\n",
       "      <td>300.08</td>\n",
       "      <td>Cash</td>\n",
       "      <td>9/11/2021</td>\n",
       "      <td>Metrocity</td>\n",
       "      <td>Besiktas</td>\n",
       "    </tr>\n",
       "    <tr>\n",
       "      <th>3</th>\n",
       "      <td>I173702</td>\n",
       "      <td>C988172</td>\n",
       "      <td>Female</td>\n",
       "      <td>66.0</td>\n",
       "      <td>Shoes</td>\n",
       "      <td>5</td>\n",
       "      <td>3000.85</td>\n",
       "      <td>Credit Card</td>\n",
       "      <td>16/05/2021</td>\n",
       "      <td>Metropol AVM</td>\n",
       "      <td>Atasehir</td>\n",
       "    </tr>\n",
       "    <tr>\n",
       "      <th>4</th>\n",
       "      <td>I337046</td>\n",
       "      <td>C189076</td>\n",
       "      <td>Female</td>\n",
       "      <td>53.0</td>\n",
       "      <td>Books</td>\n",
       "      <td>4</td>\n",
       "      <td>60.60</td>\n",
       "      <td>Cash</td>\n",
       "      <td>24/10/2021</td>\n",
       "      <td>Kanyon</td>\n",
       "      <td>Sisli</td>\n",
       "    </tr>\n",
       "  </tbody>\n",
       "</table>\n",
       "</div>"
      ],
      "text/plain": [
       "  invoice_no customer_id  gender   age  category  quantity    price  \\\n",
       "0    I138884     C241288  Female  28.0  Clothing         5  1500.40   \n",
       "1    I317333     C111565     NaN  21.0     Shoes         3  1800.51   \n",
       "2    I127801     C266599    Male  20.0  Clothing         1   300.08   \n",
       "3    I173702     C988172  Female  66.0     Shoes         5  3000.85   \n",
       "4    I337046     C189076  Female  53.0     Books         4    60.60   \n",
       "\n",
       "  payment_method invoice_date   shopping_mall    Location  \n",
       "0    Credit Card     5/8/2022          Kanyon       Sisli  \n",
       "1     Debit Card   12/12/2021  Forum Istanbul  Bayrampasa  \n",
       "2           Cash    9/11/2021       Metrocity    Besiktas  \n",
       "3    Credit Card   16/05/2021    Metropol AVM    Atasehir  \n",
       "4           Cash   24/10/2021          Kanyon       Sisli  "
      ]
     },
     "execution_count": 121,
     "metadata": {},
     "output_type": "execute_result"
    }
   ],
   "source": [
    "df.head()"
   ]
  },
  {
   "cell_type": "code",
   "execution_count": 122,
   "metadata": {},
   "outputs": [
    {
     "name": "stdout",
     "output_type": "stream",
     "text": [
      "<class 'pandas.core.frame.DataFrame'>\n",
      "RangeIndex: 99457 entries, 0 to 99456\n",
      "Data columns (total 11 columns):\n",
      " #   Column          Non-Null Count  Dtype  \n",
      "---  ------          --------------  -----  \n",
      " 0   invoice_no      99457 non-null  object \n",
      " 1   customer_id     99457 non-null  object \n",
      " 2   gender          99446 non-null  object \n",
      " 3   age             99453 non-null  float64\n",
      " 4   category        99457 non-null  object \n",
      " 5   quantity        99457 non-null  int64  \n",
      " 6   price           99457 non-null  float64\n",
      " 7   payment_method  99457 non-null  object \n",
      " 8   invoice_date    99457 non-null  object \n",
      " 9   shopping_mall   99454 non-null  object \n",
      " 10  Location        99454 non-null  object \n",
      "dtypes: float64(2), int64(1), object(8)\n",
      "memory usage: 8.3+ MB\n"
     ]
    }
   ],
   "source": [
    "df.info()"
   ]
  },
  {
   "cell_type": "markdown",
   "metadata": {},
   "source": [
    "**Printing the shape:**"
   ]
  },
  {
   "cell_type": "code",
   "execution_count": 123,
   "metadata": {},
   "outputs": [
    {
     "data": {
      "text/plain": [
       "(99457, 11)"
      ]
     },
     "execution_count": 123,
     "metadata": {},
     "output_type": "execute_result"
    }
   ],
   "source": [
    "df.shape"
   ]
  },
  {
   "cell_type": "markdown",
   "metadata": {},
   "source": [
    "**Check for duplicated values:**"
   ]
  },
  {
   "cell_type": "code",
   "execution_count": 124,
   "metadata": {},
   "outputs": [
    {
     "data": {
      "text/plain": [
       "0"
      ]
     },
     "execution_count": 124,
     "metadata": {},
     "output_type": "execute_result"
    }
   ],
   "source": [
    "df.duplicated().sum()"
   ]
  },
  {
   "cell_type": "markdown",
   "metadata": {},
   "source": [
    "**Check for null values:**"
   ]
  },
  {
   "cell_type": "code",
   "execution_count": 125,
   "metadata": {},
   "outputs": [
    {
     "name": "stdout",
     "output_type": "stream",
     "text": [
      "invoice_no         0\n",
      "customer_id        0\n",
      "gender            11\n",
      "age                4\n",
      "category           0\n",
      "quantity           0\n",
      "price              0\n",
      "payment_method     0\n",
      "invoice_date       0\n",
      "shopping_mall      3\n",
      "Location           3\n",
      "dtype: int64\n"
     ]
    }
   ],
   "source": [
    "print(df.isnull().sum())"
   ]
  },
  {
   "cell_type": "markdown",
   "metadata": {},
   "source": [
    "We can see that our dataset has columns with null values\n",
    "\n",
    "Now, we have the option to either drop records having null values or impute them with mean, median, mode"
   ]
  },
  {
   "cell_type": "code",
   "execution_count": 126,
   "metadata": {},
   "outputs": [
    {
     "name": "stdout",
     "output_type": "stream",
     "text": [
      "                age      quantity         price\n",
      "count  99453.000000  99457.000000  99457.000000\n",
      "mean      43.432134      3.003429    689.256321\n",
      "std       15.008140      1.413025    941.184567\n",
      "min        2.000000      1.000000      5.230000\n",
      "25%       30.000000      2.000000     45.450000\n",
      "50%       43.000000      3.000000    203.300000\n",
      "75%       56.000000      4.000000   1200.320000\n",
      "max      155.000000      5.000000   5250.000000\n"
     ]
    }
   ],
   "source": [
    "print(df.describe())"
   ]
  },
  {
   "cell_type": "markdown",
   "metadata": {},
   "source": [
    "#### **Handling Missing Entries**"
   ]
  },
  {
   "cell_type": "code",
   "execution_count": 127,
   "metadata": {},
   "outputs": [
    {
     "name": "stdout",
     "output_type": "stream",
     "text": [
      "invoice_no        0\n",
      "customer_id       0\n",
      "gender            0\n",
      "age               0\n",
      "category          0\n",
      "quantity          0\n",
      "price             0\n",
      "payment_method    0\n",
      "invoice_date      0\n",
      "shopping_mall     0\n",
      "Location          0\n",
      "dtype: int64\n"
     ]
    }
   ],
   "source": [
    "df = df.dropna(subset=['gender'])\n",
    "\n",
    "median_age = df['age'].median()\n",
    "df[\"age\"]=df['age'].fillna(median_age)\n",
    "\n",
    "df = df.dropna(subset=['shopping_mall'])\n",
    "\n",
    "print(df.isnull().sum())"
   ]
  },
  {
   "cell_type": "markdown",
   "metadata": {},
   "source": [
    "Age: We have decided to impute this data with mean as the age data is typically not heavily skewed, so the mean provides a sensible replacement for missing values.\n",
    "\n",
    "Gender: We have decided to drop missing records in this column because the number of missing records are less compared to the total number of records.\n",
    "\n",
    "Store Location: Dropping missing records seemed like a better option as the missing records were less, and imputing doesn't really improve the quality of the dataset"
   ]
  },
  {
   "cell_type": "markdown",
   "metadata": {},
   "source": [
    "#### **Handling Mismatched string formats**"
   ]
  },
  {
   "cell_type": "code",
   "execution_count": 128,
   "metadata": {},
   "outputs": [
    {
     "name": "stdout",
     "output_type": "stream",
     "text": [
      "All strings in column 'invoice_no' are in title case.\n",
      "All strings in column 'customer_id' are in title case.\n",
      "Not all strings in column 'gender' are in title case.\n",
      "Not all strings in column 'category' are in title case.\n",
      "All strings in column 'payment_method' are in title case.\n",
      "Not all strings in column 'invoice_date' are in title case.\n",
      "Not all strings in column 'shopping_mall' are in title case.\n",
      "All strings in column 'Location' are in title case.\n"
     ]
    }
   ],
   "source": [
    "for column in df.columns:\n",
    "    if df[column].dtype == 'object':  # Check if the column is of type string\n",
    "        all_title_case = df[column].str.istitle().all()\n",
    "        \n",
    "        if all_title_case:\n",
    "            print(f\"All strings in column '{column}' are in title case.\")\n",
    "        else:\n",
    "            print(f\"Not all strings in column '{column}' are in title case.\")"
   ]
  },
  {
   "cell_type": "markdown",
   "metadata": {},
   "source": [
    "4 columns in the dataset have mismatched string formats\n",
    "\n",
    "We will be ignoring the 'invoice_date' column and handling the mismatched string formats for other columns"
   ]
  },
  {
   "cell_type": "code",
   "execution_count": 129,
   "metadata": {},
   "outputs": [],
   "source": [
    "df[\"gender\"] = df[\"gender\"].str.title()\n",
    "df[\"category\"] = df[\"category\"].str.title()\n",
    "df[\"shopping_mall\"] = df[\"shopping_mall\"].str.title()"
   ]
  },
  {
   "cell_type": "code",
   "execution_count": 130,
   "metadata": {},
   "outputs": [
    {
     "name": "stdout",
     "output_type": "stream",
     "text": [
      "All strings in column 'invoice_no' are in title case.\n",
      "All strings in column 'customer_id' are in title case.\n",
      "All strings in column 'gender' are in title case.\n",
      "All strings in column 'category' are in title case.\n",
      "All strings in column 'payment_method' are in title case.\n",
      "Not all strings in column 'invoice_date' are in title case.\n",
      "All strings in column 'shopping_mall' are in title case.\n",
      "All strings in column 'Location' are in title case.\n"
     ]
    }
   ],
   "source": [
    "for column in df.columns:\n",
    "    if df[column].dtype == 'object':  # Check if the column is of type string\n",
    "        all_title_case = df[column].str.istitle().all()\n",
    "        \n",
    "        if all_title_case:\n",
    "            print(f\"All strings in column '{column}' are in title case.\")\n",
    "        else:\n",
    "            print(f\"Not all strings in column '{column}' are in title case.\")"
   ]
  },
  {
   "cell_type": "markdown",
   "metadata": {},
   "source": [
    "All mismatched strings in the columns have been handled now"
   ]
  },
  {
   "cell_type": "markdown",
   "metadata": {},
   "source": [
    "#### **Handling Outliers**"
   ]
  },
  {
   "cell_type": "code",
   "execution_count": 131,
   "metadata": {},
   "outputs": [
    {
     "name": "stdout",
     "output_type": "stream",
     "text": [
      "                age      quantity         price\n",
      "count  99443.000000  99443.000000  99443.000000\n",
      "mean      43.432197      3.003439    689.290403\n",
      "std       15.007765      1.413021    941.188540\n",
      "min        2.000000      1.000000      5.230000\n",
      "25%       30.000000      2.000000     45.450000\n",
      "50%       43.000000      3.000000    203.300000\n",
      "75%       56.000000      4.000000   1200.320000\n",
      "max      155.000000      5.000000   5250.000000\n"
     ]
    }
   ],
   "source": [
    "print(df.describe())"
   ]
  },
  {
   "cell_type": "markdown",
   "metadata": {},
   "source": [
    "As we can see, 1 column: Age consists of outliers"
   ]
  },
  {
   "cell_type": "code",
   "execution_count": 132,
   "metadata": {},
   "outputs": [
    {
     "name": "stdout",
     "output_type": "stream",
     "text": [
      "                age      quantity         price\n",
      "count  99443.000000  99443.000000  99443.000000\n",
      "mean      43.427411      3.003439    689.290403\n",
      "std       14.989238      1.413021    941.188540\n",
      "min       18.000000      1.000000      5.230000\n",
      "25%       30.000000      2.000000     45.450000\n",
      "50%       43.000000      3.000000    203.300000\n",
      "75%       56.000000      4.000000   1200.320000\n",
      "max       69.000000      5.000000   5250.000000\n"
     ]
    }
   ],
   "source": [
    "# Handle outliers using IQR method and imputing them with median\n",
    "\n",
    "Q1 = df[\"age\"].quantile(0.25)\n",
    "Q3 = df[\"age\"].quantile(0.75)\n",
    "IQR = Q3 - Q1\n",
    "\n",
    "lower_bound = Q1 - 0.5 * IQR\n",
    "upper_bound = Q3 + 0.5 * IQR\n",
    "\n",
    "df.loc[(df[\"age\"] < lower_bound) | (df[\"age\"] > upper_bound), \"age\"] = df[\"age\"].median()\n",
    "\n",
    "print(df.describe())"
   ]
  },
  {
   "cell_type": "markdown",
   "metadata": {},
   "source": [
    "For handling outliers in the 'Age' column, we have reduced the IQR multiplier to raise the lower bound.\n",
    "\n",
    "This has been done because the lower bound was being calculated as a negative number when using the multiplying factor of 1.5."
   ]
  },
  {
   "cell_type": "markdown",
   "metadata": {},
   "source": [
    "#### **Exploratory Data Analysis:**"
   ]
  },
  {
   "cell_type": "markdown",
   "metadata": {},
   "source": [
    "#### **Adnan Shahid Sadar (50592332)**"
   ]
  },
  {
   "cell_type": "markdown",
   "metadata": {},
   "source": [
    "**Hypothesis 1:**\n",
    "Customers' age and gender influence their preferences for product categories."
   ]
  },
  {
   "cell_type": "markdown",
   "metadata": {},
   "source": [
    "**EDA Step:** Group the data by age and gender, and compute the counts or proportions of purchases in different category groups.\n",
    "\n",
    "**Outcome:** This can help identify the most common product categories for each gender and age range."
   ]
  },
  {
   "cell_type": "code",
   "execution_count": 133,
   "metadata": {},
   "outputs": [
    {
     "data": {
      "image/png": "[encoded data removed]",
      "text/plain": [
       "<Figure size 2000x700 with 1 Axes>"
      ]
     },
     "metadata": {},
     "output_type": "display_data"
    }
   ],
   "source": [
    "category_by_age_gender = df.groupby(['age', 'gender', 'category']).size().unstack().fillna(0)\n",
    "category_by_age_gender.plot(kind='bar', stacked=True, figsize=(20, 7))\n",
    "plt.title('Product Category Distribution by Age and Gender')\n",
    "plt.xlabel('Age Group')\n",
    "plt.ylabel('Count of Purchases')\n",
    "plt.show()"
   ]
  },
  {
   "cell_type": "markdown",
   "metadata": {},
   "source": [
    "Chi-Square Test for Categorical Features:\n",
    "\n",
    "**EDA Step:** Perform a statistical test to see if there is a significant relationship between age/gender and product category.\n",
    "\n",
    "**Outcome:** Understanding if there is a statistically significant dependence will help decide if these columns are important features for the model.\n",
    "\n",
    "**Learnings & Feature Engineering:**\n",
    "\n",
    "If age and gender significantly impact category preferences, we can keep them for modeling. Otherwise, we may consider dropping or reducing these features"
   ]
  },
  {
   "cell_type": "code",
   "execution_count": 134,
   "metadata": {},
   "outputs": [
    {
     "name": "stdout",
     "output_type": "stream",
     "text": [
      "Chi-Square: 7.652540250750684, P-value: 0.36422683408825485\n"
     ]
    }
   ],
   "source": [
    "from scipy.stats import chi2_contingency\n",
    "\n",
    "contingency_table = pd.crosstab(df['gender'], df['category'])\n",
    "chi2, p_value, dof, expected = chi2_contingency(contingency_table)\n",
    "\n",
    "print(f\"Chi-Square: {chi2}, P-value: {p_value}\")\n"
   ]
  },
  {
   "cell_type": "markdown",
   "metadata": {},
   "source": [
    "**Hypothesis 2:**\n",
    "Customers from different locations exhibit distinct purchasing behaviors."
   ]
  },
  {
   "cell_type": "markdown",
   "metadata": {},
   "source": [
    "**EDA Step:** Group data by Location and category to observe purchase distributions in different locations.\n",
    "\n",
    "**Outcome:** Detect which locations drive purchases for certain product categories."
   ]
  },
  {
   "cell_type": "code",
   "execution_count": 137,
   "metadata": {},
   "outputs": [
    {
     "data": {
      "image/png": "[encoded data removed]",
      "text/plain": [
       "<Figure size 1500x700 with 1 Axes>"
      ]
     },
     "metadata": {},
     "output_type": "display_data"
    }
   ],
   "source": [
    "location_by_category = df.groupby(['Location', 'category']).size().unstack().fillna(0)\n",
    "location_by_category.plot(kind='bar', stacked=True, figsize=(15, 7))\n",
    "plt.title('Category Distribution by Location')\n",
    "plt.show()"
   ]
  },
  {
   "cell_type": "markdown",
   "metadata": {},
   "source": [
    "Perform an ANOVA (Analysis of Variance) to check if there’s any statistical difference in the mean quantity purchased across locations.\n",
    "\n",
    "**Learnings & Feature Engineering:**\n",
    "\n",
    "If the location has a significant effect on the purchase behavior, keep the Location feature for prediction. Otherwise, consider dropping or simplifying it."
   ]
  },
  {
   "cell_type": "code",
   "execution_count": 136,
   "metadata": {},
   "outputs": [
    {
     "name": "stdout",
     "output_type": "stream",
     "text": [
      "ANOVA F-statistic: 0.413762863674586, P-value: 0.9134145050080709\n"
     ]
    }
   ],
   "source": [
    "from scipy.stats import f_oneway\n",
    "mall_groups = [df[df['Location'] == mall]['quantity'] for mall in df['Location'].unique()]\n",
    "f_stat, p_value = f_oneway(*mall_groups)\n",
    "\n",
    "print(f\"ANOVA F-statistic: {f_stat}, P-value: {p_value}\")\n"
   ]
  }
 ],
 "metadata": {
  "kernelspec": {
   "display_name": "base",
   "language": "python",
   "name": "python3"
  },
  "language_info": {
   "codemirror_mode": {
    "name": "ipython",
    "version": 3
   },
   "file_extension": ".py",
   "mimetype": "text/x-python",
   "name": "python",
   "nbconvert_exporter": "python",
   "pygments_lexer": "ipython3",
   "version": "3.12.4"
  }
 },
 "nbformat": 4,
 "nbformat_minor": 2
}
